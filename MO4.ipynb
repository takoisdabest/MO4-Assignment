{
 "cells": [
  {
   "cell_type": "code",
   "execution_count": 2,
   "id": "5a44cd96-d0ce-412e-bfde-1412cc230b58",
   "metadata": {},
   "outputs": [],
   "source": [
    "#11.1\n",
    "def hours():\n",
    "    print('Open 9-5 daily')\n",
    "#In the interpreter\n",
    "import zoo\n",
    "zoo.hours()"
   ]
  },
  {
   "cell_type": "code",
   "execution_count": null,
   "id": "94a31009-ec50-46f1-9ea4-e54fb192c4ec",
   "metadata": {},
   "outputs": [],
   "source": [
    "#11.2\n",
    "import zoo from menagerie\n",
    "menagerie.hours()"
   ]
  },
  {
   "cell_type": "code",
   "execution_count": null,
   "id": "5ade8301-07ee-471e-8e70-5ea17181c556",
   "metadata": {},
   "outputs": [],
   "source": [
    "#16.8\n",
    "from sqlalchemy import create_engine, Table, Column, Integer, String, MetaData, select\n",
    "\n",
    "# Create an engine to connect to the database\n",
    "engine = create_engine(\"sqlite:///books.db\")\n",
    "\n",
    "# Define the 'book' table\n",
    "metadata = MetaData()\n",
    "book = Table(\n",
    "    \"book\",\n",
    "    metadata,\n",
    "    Column(\"id\", Integer, primary_key=True),\n",
    "    Column(\"title\", String),\n",
    "    Column(\"author\", String),\n",
    "    Column(\"pub_year\", Integer),\n",
    ")\n",
    "\n"
   ]
  }
 ],
 "metadata": {
  "kernelspec": {
   "display_name": "Python 3 (ipykernel)",
   "language": "python",
   "name": "python3"
  },
  "language_info": {
   "codemirror_mode": {
    "name": "ipython",
    "version": 3
   },
   "file_extension": ".py",
   "mimetype": "text/x-python",
   "name": "python",
   "nbconvert_exporter": "python",
   "pygments_lexer": "ipython3",
   "version": "3.11.7"
  }
 },
 "nbformat": 4,
 "nbformat_minor": 5
}
